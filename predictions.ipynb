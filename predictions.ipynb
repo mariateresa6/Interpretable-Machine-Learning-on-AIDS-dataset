{
 "cells": [
  {
   "cell_type": "markdown",
   "metadata": {},
   "source": [
    "### Apply the model"
   ]
  },
  {
   "cell_type": "markdown",
   "metadata": {},
   "source": [
    "##### libraries"
   ]
  },
  {
   "cell_type": "code",
   "execution_count": 1,
   "metadata": {},
   "outputs": [],
   "source": [
    "import matplotlib.pyplot as plt\n",
    "from math import pi\n",
    "import seaborn as sns\n",
    "import pandas as pd\n",
    "import numpy as np\n",
    "from matplotlib import pyplot\n",
    "import plotly.express as px"
   ]
  },
  {
   "cell_type": "code",
   "execution_count": 2,
   "metadata": {},
   "outputs": [
    {
     "data": {
      "text/html": [
       "<div>\n",
       "<style scoped>\n",
       "    .dataframe tbody tr th:only-of-type {\n",
       "        vertical-align: middle;\n",
       "    }\n",
       "\n",
       "    .dataframe tbody tr th {\n",
       "        vertical-align: top;\n",
       "    }\n",
       "\n",
       "    .dataframe thead th {\n",
       "        text-align: right;\n",
       "    }\n",
       "</style>\n",
       "<table border=\"1\" class=\"dataframe\">\n",
       "  <thead>\n",
       "    <tr style=\"text-align: right;\">\n",
       "      <th></th>\n",
       "      <th>time</th>\n",
       "      <th>trt</th>\n",
       "      <th>age</th>\n",
       "      <th>wtkg</th>\n",
       "      <th>hemo</th>\n",
       "      <th>drugs</th>\n",
       "      <th>karnof</th>\n",
       "      <th>oprior</th>\n",
       "      <th>z30</th>\n",
       "      <th>preanti</th>\n",
       "      <th>gender</th>\n",
       "      <th>str2</th>\n",
       "      <th>strat</th>\n",
       "      <th>symptom</th>\n",
       "      <th>cd40</th>\n",
       "      <th>cd420</th>\n",
       "      <th>cd80</th>\n",
       "      <th>cd820</th>\n",
       "      <th>infected</th>\n",
       "    </tr>\n",
       "  </thead>\n",
       "  <tbody>\n",
       "    <tr>\n",
       "      <th>0</th>\n",
       "      <td>1108</td>\n",
       "      <td>1</td>\n",
       "      <td>37</td>\n",
       "      <td>88.11364</td>\n",
       "      <td>0</td>\n",
       "      <td>1</td>\n",
       "      <td>100</td>\n",
       "      <td>0</td>\n",
       "      <td>1</td>\n",
       "      <td>169</td>\n",
       "      <td>0</td>\n",
       "      <td>1</td>\n",
       "      <td>1</td>\n",
       "      <td>0</td>\n",
       "      <td>389</td>\n",
       "      <td>320</td>\n",
       "      <td>734</td>\n",
       "      <td>737</td>\n",
       "      <td>1</td>\n",
       "    </tr>\n",
       "    <tr>\n",
       "      <th>1</th>\n",
       "      <td>1079</td>\n",
       "      <td>0</td>\n",
       "      <td>43</td>\n",
       "      <td>66.77075</td>\n",
       "      <td>0</td>\n",
       "      <td>0</td>\n",
       "      <td>100</td>\n",
       "      <td>0</td>\n",
       "      <td>1</td>\n",
       "      <td>654</td>\n",
       "      <td>1</td>\n",
       "      <td>0</td>\n",
       "      <td>2</td>\n",
       "      <td>0</td>\n",
       "      <td>318</td>\n",
       "      <td>432</td>\n",
       "      <td>912</td>\n",
       "      <td>1213</td>\n",
       "      <td>0</td>\n",
       "    </tr>\n",
       "    <tr>\n",
       "      <th>2</th>\n",
       "      <td>492</td>\n",
       "      <td>1</td>\n",
       "      <td>34</td>\n",
       "      <td>82.91725</td>\n",
       "      <td>0</td>\n",
       "      <td>0</td>\n",
       "      <td>90</td>\n",
       "      <td>0</td>\n",
       "      <td>1</td>\n",
       "      <td>710</td>\n",
       "      <td>1</td>\n",
       "      <td>1</td>\n",
       "      <td>2</td>\n",
       "      <td>0</td>\n",
       "      <td>326</td>\n",
       "      <td>524</td>\n",
       "      <td>660</td>\n",
       "      <td>835</td>\n",
       "      <td>0</td>\n",
       "    </tr>\n",
       "    <tr>\n",
       "      <th>3</th>\n",
       "      <td>1191</td>\n",
       "      <td>1</td>\n",
       "      <td>41</td>\n",
       "      <td>98.91817</td>\n",
       "      <td>0</td>\n",
       "      <td>0</td>\n",
       "      <td>81</td>\n",
       "      <td>0</td>\n",
       "      <td>1</td>\n",
       "      <td>992</td>\n",
       "      <td>1</td>\n",
       "      <td>1</td>\n",
       "      <td>3</td>\n",
       "      <td>0</td>\n",
       "      <td>318</td>\n",
       "      <td>232</td>\n",
       "      <td>1131</td>\n",
       "      <td>982</td>\n",
       "      <td>1</td>\n",
       "    </tr>\n",
       "    <tr>\n",
       "      <th>4</th>\n",
       "      <td>1141</td>\n",
       "      <td>3</td>\n",
       "      <td>47</td>\n",
       "      <td>53.61717</td>\n",
       "      <td>0</td>\n",
       "      <td>0</td>\n",
       "      <td>100</td>\n",
       "      <td>0</td>\n",
       "      <td>0</td>\n",
       "      <td>0</td>\n",
       "      <td>1</td>\n",
       "      <td>0</td>\n",
       "      <td>1</td>\n",
       "      <td>0</td>\n",
       "      <td>280</td>\n",
       "      <td>337</td>\n",
       "      <td>515</td>\n",
       "      <td>679</td>\n",
       "      <td>0</td>\n",
       "    </tr>\n",
       "  </tbody>\n",
       "</table>\n",
       "</div>"
      ],
      "text/plain": [
       "   time  trt  age      wtkg  hemo  drugs  karnof  oprior  z30  preanti  \\\n",
       "0  1108    1   37  88.11364     0      1     100       0    1      169   \n",
       "1  1079    0   43  66.77075     0      0     100       0    1      654   \n",
       "2   492    1   34  82.91725     0      0      90       0    1      710   \n",
       "3  1191    1   41  98.91817     0      0      81       0    1      992   \n",
       "4  1141    3   47  53.61717     0      0     100       0    0        0   \n",
       "\n",
       "   gender  str2  strat  symptom  cd40  cd420  cd80  cd820  infected  \n",
       "0       0     1      1        0   389    320   734    737         1  \n",
       "1       1     0      2        0   318    432   912   1213         0  \n",
       "2       1     1      2        0   326    524   660    835         0  \n",
       "3       1     1      3        0   318    232  1131    982         1  \n",
       "4       1     0      1        0   280    337   515    679         0  "
      ]
     },
     "execution_count": 2,
     "metadata": {},
     "output_type": "execute_result"
    }
   ],
   "source": [
    "df =pd.read_csv(\"aids_clean.csv\")\n",
    "df.head()"
   ]
  },
  {
   "cell_type": "markdown",
   "metadata": {},
   "source": [
    "#### K-fold cross validation to find the best hyperparameters\n",
    "##### parameters are internal settings learned during training by the XGBoost algorithm itself, whereas hyperparameters are external settings that the user defines and adjusts to optimize the model's performance"
   ]
  },
  {
   "cell_type": "code",
   "execution_count": 3,
   "metadata": {},
   "outputs": [
    {
     "name": "stdout",
     "output_type": "stream",
     "text": [
      "   time  trt  age      wtkg  hemo  drugs  karnof  oprior  z30  preanti  \\\n",
      "0  1108    1   37  88.11364     0      1     100       0    1      169   \n",
      "1  1079    0   43  66.77075     0      0     100       0    1      654   \n",
      "2   492    1   34  82.91725     0      0      90       0    1      710   \n",
      "3  1191    1   41  98.91817     0      0      81       0    1      992   \n",
      "4  1141    3   47  53.61717     0      0     100       0    0        0   \n",
      "\n",
      "   gender  str2  strat  symptom  cd40  cd420  cd80  cd820  \n",
      "0       0     1      1        0   389    320   734    737  \n",
      "1       1     0      2        0   318    432   912   1213  \n",
      "2       1     1      2        0   326    524   660    835  \n",
      "3       1     1      3        0   318    232  1131    982  \n",
      "4       1     0      1        0   280    337   515    679  \n",
      "0.31\n",
      "0.31\n",
      "3.2287822878228782\n"
     ]
    }
   ],
   "source": [
    "import sklearn\n",
    "import xgboost\n",
    "from sklearn.model_selection import train_test_split, RandomizedSearchCV\n",
    "from sklearn.metrics import recall_score, confusion_matrix\n",
    "from xgboost import XGBClassifier\n",
    "\n",
    "X = df.drop('infected', axis=1)  \n",
    "y = df['infected'].astype(int)  # Assicurati che y sia di tipo int (binario)\n",
    "#X = pd.get_dummies(X)\n",
    "X_train, X_test, y_train, y_test = train_test_split(X, y, test_size=0.3, random_state=7)\n",
    "\n",
    "print(X.head())\n",
    "print(round(len(y_train[y_train==1])/len(y_train),2))\n",
    "print(round(len(y_test[y_test==1])/len(y_test),2))\n",
    "\n",
    "print(len(y_train==0)/len(y_train[y_train==1]))"
   ]
  },
  {
   "cell_type": "markdown",
   "metadata": {},
   "source": [
    "#### Hyperparameters tuning"
   ]
  },
  {
   "cell_type": "code",
   "execution_count": 4,
   "metadata": {},
   "outputs": [
    {
     "name": "stdout",
     "output_type": "stream",
     "text": [
      "Migliori Parametri: {'subsample': 0.6, 'scale_pos_weight': 4, 'reg_lambda': 5, 'reg_alpha': 5, 'min_child_weight': 1, 'max_depth': 3, 'gamma': 0.3, 'colsample_bytree': 0.8}\n"
     ]
    }
   ],
   "source": [
    "opt_parameters = {\n",
    "    'max_depth': [3, 5, 7],\n",
    "    'min_child_weight': [1, 3, 5],\n",
    "    'gamma': [0, 0.1, 0.3],\n",
    "    'subsample': [0.6, 0.7, 0.8],\n",
    "    'colsample_bytree': [0.6, 0.8, 1.0],\n",
    "    'reg_lambda': [1, 5, 10],\n",
    "    'reg_alpha': [1, 5, 10],\n",
    "    'scale_pos_weight': [1, 1.5, 2, 2.5, 3, 3.22, 3.5, 4]\n",
    "}\n",
    "\n",
    "rand_search = RandomizedSearchCV(XGBClassifier(), param_distributions=opt_parameters, n_iter=30, scoring='recall', cv=10, verbose=0, random_state=99)\n",
    "rand_search.fit(X_train, y_train)\n",
    "\n",
    "best_params = rand_search.best_params_\n",
    "print(\"Migliori Parametri:\", best_params)"
   ]
  },
  {
   "cell_type": "markdown",
   "metadata": {},
   "source": [
    "#### The model"
   ]
  },
  {
   "cell_type": "code",
   "execution_count": 11,
   "metadata": {},
   "outputs": [
    {
     "name": "stdout",
     "output_type": "stream",
     "text": [
      "XGBoost model recall score: 0.8303\n"
     ]
    },
    {
     "data": {
      "image/png": "[encoded data removed]",
      "text/plain": [
       "<Figure size 640x480 with 2 Axes>"
      ]
     },
     "metadata": {},
     "output_type": "display_data"
    }
   ],
   "source": [
    "b_params = {\n",
    "    'subsample': 0.6, \n",
    "    'scale_pos_weight': 4, \n",
    "    'reg_lambda': 5, \n",
    "    'reg_alpha': 5, \n",
    "    'min_child_weight': 1, \n",
    "    'max_depth': 3, \n",
    "    'gamma': 0.3, \n",
    "    'colsample_bytree': 0.8}\n",
    "\n",
    "#fit the model on train set    \n",
    "xgb_clf_best = XGBClassifier(**best_params, random_state = 990)\n",
    "xgb_clf_best.fit(X_train, y_train)\n",
    "\n",
    "# Predictions on  test set\n",
    "y_pred = xgb_clf_best.predict(X_test)\n",
    "\n",
    "recall = recall_score(y_test, y_pred)\n",
    "print('XGBoost model recall score: {0:0.4f}'.format(recall))\n",
    "\n",
    "# Confusion matrix\n",
    "cm = confusion_matrix(y_test, y_pred)\n",
    "sns.heatmap(cm, annot=True, fmt=\"d\", cmap='Blues')\n",
    "plt.xlabel('Predicted Labels')\n",
    "plt.ylabel('True Labels')\n",
    "plt.title('Confusion Matrix')\n",
    "plt.show()\n"
   ]
  },
  {
   "cell_type": "markdown",
   "metadata": {},
   "source": [
    "#### Be sure the model is not in overfitting"
   ]
  },
  {
   "cell_type": "code",
   "execution_count": 13,
   "metadata": {},
   "outputs": [
    {
     "name": "stdout",
     "output_type": "stream",
     "text": [
      "XGBoost model recall score on train set: 0.8933\n",
      "XGBoost model recall score: 0.8303\n"
     ]
    },
    {
     "data": {
      "image/png": "[encoded data removed]",
      "text/plain": [
       "<Figure size 1200x600 with 1 Axes>"
      ]
     },
     "metadata": {},
     "output_type": "display_data"
    }
   ],
   "source": [
    "y_pred_train = xgb_clf_best.predict(X_train)\n",
    "recall_train = recall_score(y_train, y_pred_train)\n",
    "print('XGBoost model recall score on train set: {0:0.4f}'.format(recall_train))\n",
    "print('XGBoost model recall score: {0:0.4f}'.format(recall))\n",
    "\n",
    "from sklearn.model_selection import learning_curve\n",
    "from sklearn.metrics import make_scorer, recall_score\n",
    "\n",
    "# learning curve\n",
    "def plot_learning_curve(estimator, X, y, cv=10, train_sizes=np.linspace(0.1, 1.0, 10)):\n",
    "    recall_scorer = make_scorer(recall_score)\n",
    "    train_sizes, train_scores, validation_scores = learning_curve(\n",
    "        estimator, X, y, cv=cv, scoring=recall_scorer, train_sizes=train_sizes)\n",
    "    \n",
    "    train_scores_mean = np.mean(train_scores, axis=1)\n",
    "    validation_scores_mean = np.mean(validation_scores, axis=1)\n",
    "    \n",
    "    plt.figure(figsize=(12, 6))\n",
    "    plt.plot(train_sizes, train_scores_mean, label='Punteggio nel train set')\n",
    "    plt.plot(train_sizes, validation_scores_mean, label='Punteggio nel test set')\n",
    "    plt.ylabel('Recall')\n",
    "    plt.xlabel('Dimensione del train set')\n",
    "    plt.title('Curve di apprendimento')\n",
    "    plt.legend()\n",
    "    plt.grid()\n",
    "    plt.show()\n",
    "\n",
    "# Tracciare le learning curve\n",
    "plot_learning_curve(xgb_clf_best, X_train, y_train, cv=10)\n",
    "\n"
   ]
  }
 ],
 "metadata": {
  "kernelspec": {
   "display_name": "Python 3",
   "language": "python",
   "name": "python3"
  },
  "language_info": {
   "codemirror_mode": {
    "name": "ipython",
    "version": 3
   },
   "file_extension": ".py",
   "mimetype": "text/x-python",
   "name": "python",
   "nbconvert_exporter": "python",
   "pygments_lexer": "ipython3",
   "version": "3.12.2"
  }
 },
 "nbformat": 4,
 "nbformat_minor": 2
}
